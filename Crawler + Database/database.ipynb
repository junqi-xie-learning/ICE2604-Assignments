{
 "metadata": {
  "language_info": {
   "codemirror_mode": {
    "name": "ipython",
    "version": 3
   },
   "file_extension": ".py",
   "mimetype": "text/x-python",
   "name": "python",
   "nbconvert_exporter": "python",
   "pygments_lexer": "ipython3",
   "version": 3
  },
  "orig_nbformat": 2
 },
 "nbformat": 4,
 "nbformat_minor": 2,
 "cells": [
  {
   "cell_type": "code",
   "execution_count": null,
   "metadata": {},
   "outputs": [],
   "source": [
    "import json\n",
    "from pymysql import connect"
   ]
  },
  {
   "cell_type": "code",
   "execution_count": null,
   "metadata": {},
   "outputs": [],
   "source": [
    "dic = {}\n",
    "with open(\"baike_data.json\", \"r\", encoding='utf8') as f:\n",
    "    dic = json.load(f)"
   ]
  },
  {
   "cell_type": "code",
   "execution_count": null,
   "metadata": {},
   "outputs": [],
   "source": [
    "conn = connect(host='127.0.0.1',\n",
    "               port=3306,\n",
    "               user='root',\n",
    "               passwd='',\n",
    "               charset=\"utf8\")\n",
    "cursor = conn.cursor()\n",
    "\n",
    "cursor.execute(\"CREATE DATABASE baidu_baike CHARACTER SET UTF8mb4 COLLATE utf8mb4_general_ci\")\n",
    "conn.commit()"
   ]
  },
  {
   "cell_type": "code",
   "execution_count": null,
   "metadata": {},
   "outputs": [],
   "source": [
    "conn = connect(host='127.0.0.1',\n",
    "               port=3306,\n",
    "               user='root',\n",
    "               passwd='',\n",
    "               db='baidu_baike',\n",
    "               charset=\"utf8\")\n",
    "cursor = conn.cursor()\n",
    "\n",
    "cursor.execute(\"CREATE TABLE `mathematical_science`(`entry` VARCHAR(100) NOT NULL, `summary` VARCHAR(10000) NULL, \\\n",
    "                PRIMARY KEY (`entry`), INDEX `ID` USING BTREE (`entry`))\\\n",
    "                ENGINE = InnoDB, DEFAULT CHARACTER SET = utf8mb4\")\n",
    "conn.commit()"
   ]
  },
  {
   "cell_type": "code",
   "execution_count": null,
   "metadata": {},
   "outputs": [],
   "source": [
    "i = 0\n",
    "for entry in dic:\n",
    "    cursor.execute(\"INSERT INTO mathematical_science(entry, summary) VALUES (%s, %s)\",\n",
    "                   (entry, dic[entry]))\n",
    "    i += 1\n",
    "    if not (i % 10):\n",
    "        conn.commit()\n",
    "else:\n",
    "    conn.commit()"
   ]
  }
 ]
}
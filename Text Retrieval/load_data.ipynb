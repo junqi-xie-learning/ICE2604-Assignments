{
 "metadata": {
  "language_info": {
   "codemirror_mode": {
    "name": "ipython",
    "version": 3
   },
   "file_extension": ".py",
   "mimetype": "text/x-python",
   "name": "python",
   "nbconvert_exporter": "python",
   "pygments_lexer": "ipython3",
   "version": 3
  },
  "orig_nbformat": 2
 },
 "nbformat": 4,
 "nbformat_minor": 2,
 "cells": [
  {
   "cell_type": "code",
   "execution_count": null,
   "metadata": {},
   "outputs": [],
   "source": [
    "from pymysql import connect\n",
    "from elasticsearch import Elasticsearch\n",
    "import json"
   ]
  },
  {
   "cell_type": "code",
   "execution_count": null,
   "metadata": {},
   "outputs": [],
   "source": [
    "database = connect(host='server.acemap.cn',\n",
    "                   port=13306,\n",
    "                   user='ee101_web',\n",
    "                   password='ee101_web',\n",
    "                   db='ee101_web',\n",
    "                   charset='utf8')\n",
    "cursor = database.cursor()\n",
    "cursor.execute(\"SELECT * from paper\")\n",
    "result = cursor.fetchall()"
   ]
  },
  {
   "cell_type": "code",
   "execution_count": null,
   "metadata": {},
   "outputs": [],
   "source": [
    "mappings = {\n",
    "    \"mappings\": {\n",
    "        \"properties\": {\n",
    "            \"paper_id\": {\n",
    "                \"type\": \"long\"\n",
    "            },\n",
    "            \"title\": {\n",
    "                \"type\": \"text\",\n",
    "                \"analyzer\": \"english\"\n",
    "            },\n",
    "            \"year\": {\n",
    "                \"type\": \"long\"\n",
    "            },\n",
    "            \"authors\": {\n",
    "                \"type\": \"text\"\n",
    "            },\n",
    "            \"keywords\": {\n",
    "                \"type\": \"text\",\n",
    "                \"analyzer\": \"english\"\n",
    "            },\n",
    "            \"venue\": {\n",
    "                \"type\": \"text\",\n",
    "                \"analyzer\": \"english\"\n",
    "            }\n",
    "        }\n",
    "    }\n",
    "}"
   ]
  },
  {
   "cell_type": "code",
   "execution_count": null,
   "metadata": {},
   "outputs": [],
   "source": [
    "es = Elasticsearch()\n",
    "es.indices.create(index='paper', body=mappings)"
   ]
  },
  {
   "cell_type": "code",
   "execution_count": null,
   "metadata": {},
   "outputs": [],
   "source": [
    "for paper in result:\n",
    "    info = {\n",
    "        'paper_id': int(paper[0]),\n",
    "        'title': paper[1],\n",
    "        'year': int(paper[2]),\n",
    "        'authors': \", \".join(eval(paper[3])),\n",
    "        'keywords': \", \".join(eval(paper[4])),\n",
    "        'venue': paper[5]\n",
    "    }\n",
    "    es.index(index='paper', id=info['paper_id'], body=json.dumps(info, ensure_ascii=False))"
   ]
  }
 ]
}
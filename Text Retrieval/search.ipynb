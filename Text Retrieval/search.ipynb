{
 "metadata": {
  "language_info": {
   "codemirror_mode": {
    "name": "ipython",
    "version": 3
   },
   "file_extension": ".py",
   "mimetype": "text/x-python",
   "name": "python",
   "nbconvert_exporter": "python",
   "pygments_lexer": "ipython3",
   "version": 3
  },
  "orig_nbformat": 2
 },
 "nbformat": 4,
 "nbformat_minor": 2,
 "cells": [
  {
   "cell_type": "code",
   "execution_count": null,
   "metadata": {},
   "outputs": [],
   "source": [
    "import json\n",
    "from elasticsearch import Elasticsearch"
   ]
  },
  {
   "cell_type": "code",
   "execution_count": null,
   "metadata": {},
   "outputs": [],
   "source": [
    "es = Elasticsearch()"
   ]
  },
  {
   "cell_type": "code",
   "execution_count": null,
   "metadata": {},
   "outputs": [],
   "source": [
    "def search(domain, keywords):\n",
    "    method = \"match_phrase\" if domain == \"authors\" else \"match\"\n",
    "    query = {\n",
    "        \"query\": {\n",
    "            method: {\n",
    "                domain: keywords\n",
    "            }\n",
    "        }\n",
    "    }\n",
    "    return es.search(index=\"paper\", body=json.dumps(query))"
   ]
  },
  {
   "cell_type": "code",
   "execution_count": null,
   "metadata": {},
   "outputs": [],
   "source": [
    "while True:\n",
    "    domain = input(\"Search Domain: \")\n",
    "    keywords = input(\"Search Keywords: \")\n",
    "    result = search(domain, keywords)\n",
    "    for entry in result['hits']['hits']:\n",
    "        print(\"score: {}\".format(entry['_score']))\n",
    "        print(json.dumps(entry['_source'], indent=4))\n",
    "        print()"
   ]
  }
 ]
}